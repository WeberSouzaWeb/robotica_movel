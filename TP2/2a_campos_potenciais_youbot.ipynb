{
 "cells": [
  {
   "cell_type": "markdown",
   "metadata": {},
   "source": [
    "# Trabalho Prático 2 - Planejamento e Navegação\n",
    "## Passo 2a: Campos Potenciais para Kuka youbot\n",
    "\n",
    "### Importação de Bibliotecas"
   ]
  },
  {
   "cell_type": "code",
   "execution_count": null,
   "metadata": {},
   "outputs": [],
   "source": [
    "import numpy as np\n",
    "import matplotlib.pyplot as plt\n",
    "import matplotlib.image as mpimg\n",
    "import matplotlib.patches as patches\n",
    "from scipy.ndimage import distance_transform_edt"
   ]
  },
  {
   "cell_type": "markdown",
   "metadata": {},
   "source": [
    "### Definição dos Parâmetros\n",
    "\n",
    "O método de Campos Potenciais baseia-se na criação de um campo de forças atrativas e repulsivas.\n",
    "O objetivo exerce uma força atrativa sobre o robô, enquanto os obstáculos exercem forças repulsivas."
   ]
  },
  {
   "cell_type": "code",
   "execution_count": null,
   "metadata": {},
   "outputs": [],
   "source": [
    "# Dimensões do mundo\n",
    "WORLD_WIDTH = 50\n",
    "WORLD_HEIGHT = 30\n",
    "\n",
    "# Parâmetros do Kuka youbot\n",
    "ROBOT_RADIUS = 0.2\n",
    "SAFETY_MARGIN = 0.1\n",
    "EFFECTIVE_RADIUS = ROBOT_RADIUS + SAFETY_MARGIN\n",
    "\n",
    "# Parâmetros do campo potencial\n",
    "K_ATT = 1.0  # ganho do potencial atrativo\n",
    "K_REP = 50.0  # ganho do potencial repulsivo\n",
    "D0 = 2.0  # distância de influência dos obstáculos\n",
    "STEP_SIZE = 0.5  # tamanho do passo\n",
    "MAX_ITERATIONS = 1000  # número máximo de iterações\n",
    "GOAL_THRESHOLD = 0.5  # distância para considerar que chegou ao objetivo"
   ]
  },
  {
   "cell_type": "markdown",
   "metadata": {},
   "source": [
    "### Carregamento dos Mapas"
   ]
  },
  {
   "cell_type": "code",
   "execution_count": null,
   "metadata": {},
   "outputs": [],
   "source": [
    "# Carregar mapas\n",
    "mapa1 = mpimg.imread('imagens/mapa1_invertido.png')\n",
    "mapa2 = mpimg.imread('imagens/mapa2_invertido.png')"
   ]
  },
  {
   "cell_type": "markdown",
   "metadata": {},
   "source": [
    "### Implementação do Método de Campos Potenciais\n",
    "\n",
    "O potencial total é a soma do potencial atrativo (em direção ao objetivo) e do potencial repulsivo (afastando dos obstáculos).\n",
    "\n",
    "**Potencial Atrativo:**\n",
    "$$U_{att}(q) = \\frac{1}{2} k_{att} \\cdot d^2(q, q_{goal})$$\n",
    "\n",
    "**Potencial Repulsivo:**\n",
    "$$U_{rep}(q) = \\begin{cases} \n",
    "\\frac{1}{2} k_{rep} \\left(\\frac{1}{d(q, q_{obs})} - \\frac{1}{d_0}\\right)^2 & \\text{se } d(q, q_{obs}) \\leq d_0 \\\\\n",
    "0 & \\text{se } d(q, q_{obs}) > d_0\n",
    "\\end{cases}$$\n",
    "\n",
    "A força resultante é o negativo do gradiente do potencial total."
   ]
  },
  {
   "cell_type": "code",
   "execution_count": null,
   "metadata": {},
   "outputs": [],
   "source": [
    "def pixel_to_world(px, py, img_shape, world_width, world_height):\n",
    "    \"\"\"Converte coordenadas de pixel para coordenadas do mundo.\"\"\"\n",
    "    h, w = img_shape[:2]\n",
    "    x = (px / w) * world_width\n",
    "    y = (py / h) * world_height\n",
    "    return x, y\n",
    "\n",
    "def world_to_pixel(x, y, img_shape, world_width, world_height):\n",
    "    \"\"\"Converte coordenadas do mundo para coordenadas de pixel.\"\"\"\n",
    "    h, w = img_shape[:2]\n",
    "    px = int((x / world_width) * w)\n",
    "    py = int((y / world_height) * h)\n",
    "    return px, py\n",
    "\n",
    "def compute_distance_field(mapa, robot_radius, world_width, world_height):\n",
    "    \"\"\"Calcula o campo de distâncias aos obstáculos.\"\"\"\n",
    "    # Criar máscara de obstáculos\n",
    "    obstacles = mapa[:, :, 0] < 0.5\n",
    "    \n",
    "    # Calcular distância euclidiana aos obstáculos\n",
    "    distance_field = distance_transform_edt(~obstacles)\n",
    "    \n",
    "    # Converter distância de pixels para metros\n",
    "    px_per_meter = mapa.shape[1] / world_width\n",
    "    distance_field = distance_field / px_per_meter\n",
    "    \n",
    "    return distance_field\n",
    "\n",
    "def attractive_force(current, goal, k_att):\n",
    "    \"\"\"Calcula a força atrativa em direção ao objetivo.\"\"\"\n",
    "    direction = np.array(goal) - np.array(current)\n",
    "    distance = np.linalg.norm(direction)\n",
    "    \n",
    "    if distance < 0.001:\n",
    "        return np.array([0.0, 0.0])\n",
    "    \n",
    "    # Força proporcional à distância\n",
    "    force = k_att * direction\n",
    "    \n",
    "    return force\n",
    "\n",
    "def repulsive_force(current, distance_field, mapa, k_rep, d0, world_width, world_height):\n",
    "    \"\"\"Calcula a força repulsiva dos obstáculos.\"\"\"\n",
    "    px, py = world_to_pixel(current[0], current[1], mapa.shape, world_width, world_height)\n",
    "    \n",
    "    # Garantir que está dentro dos limites\n",
    "    px = np.clip(px, 0, distance_field.shape[1] - 1)\n",
    "    py = np.clip(py, 0, distance_field.shape[0] - 1)\n",
    "    \n",
    "    # Distância ao obstáculo mais próximo\n",
    "    d_obs = distance_field[py, px]\n",
    "    \n",
    "    if d_obs > d0:\n",
    "        return np.array([0.0, 0.0])\n",
    "    \n",
    "    # Calcular gradiente da distância (direção de afastamento)\n",
    "    grad_y, grad_x = np.gradient(distance_field)\n",
    "    \n",
    "    gradient = np.array([grad_x[py, px], grad_y[py, px]])\n",
    "    grad_norm = np.linalg.norm(gradient)\n",
    "    \n",
    "    if grad_norm < 0.001:\n",
    "        return np.array([0.0, 0.0])\n",
    "    \n",
    "    gradient = gradient / grad_norm\n",
    "    \n",
    "    # Força repulsiva\n",
    "    force_magnitude = k_rep * (1.0/d_obs - 1.0/d0) * (1.0/(d_obs**2))\n",
    "    force = force_magnitude * gradient\n",
    "    \n",
    "    return force\n",
    "\n",
    "def potential_field_navigation(start, goal, mapa, k_att, k_rep, d0, step_size, \n",
    "                                max_iterations, goal_threshold, world_width, world_height):\n",
    "    \"\"\"Executa a navegação por campos potenciais.\"\"\"\n",
    "    # Calcular campo de distâncias\n",
    "    distance_field = compute_distance_field(mapa, EFFECTIVE_RADIUS, world_width, world_height)\n",
    "    \n",
    "    # Inicializar trajetória\n",
    "    path = [start]\n",
    "    current = np.array(start, dtype=float)\n",
    "    \n",
    "    for i in range(max_iterations):\n",
    "        # Verificar se chegou ao objetivo\n",
    "        distance_to_goal = np.linalg.norm(current - np.array(goal))\n",
    "        if distance_to_goal < goal_threshold:\n",
    "            path.append(tuple(current))\n",
    "            print(f\"Objetivo alcançado em {i} iterações\")\n",
    "            break\n",
    "        \n",
    "        # Calcular forças\n",
    "        f_att = attractive_force(current, goal, k_att)\n",
    "        f_rep = repulsive_force(current, distance_field, mapa, k_rep, d0, world_width, world_height)\n",
    "        \n",
    "        # Força total\n",
    "        f_total = f_att + f_rep\n",
    "        \n",
    "        # Normalizar e aplicar passo\n",
    "        f_norm = np.linalg.norm(f_total)\n",
    "        if f_norm < 0.001:\n",
    "            print(f\"Preso em mínimo local na iteração {i}\")\n",
    "            break\n",
    "        \n",
    "        direction = f_total / f_norm\n",
    "        current = current + step_size * direction\n",
    "        \n",
    "        # Verificar limites\n",
    "        current[0] = np.clip(current[0], 0, world_width)\n",
    "        current[1] = np.clip(current[1], 0, world_height)\n",
    "        \n",
    "        path.append(tuple(current))\n",
    "    \n",
    "    if distance_to_goal >= goal_threshold:\n",
    "        print(f\"Número máximo de iterações atingido\")\n",
    "    \n",
    "    return path, distance_field"
   ]
  },
  {
   "cell_type": "markdown",
   "metadata": {},
   "source": [
    "### Experimento 1: Mapa 1 - Cenário Simples"
   ]
  },
  {
   "cell_type": "code",
   "execution_count": null,
   "metadata": {},
   "outputs": [],
   "source": [
    "# Definir pontos de início e objetivo\n",
    "start_mapa1 = (5, 15)\n",
    "goal_mapa1 = (45, 15)\n",
    "\n",
    "# Executar navegação por campos potenciais\n",
    "path_mapa1, dist_field_mapa1 = potential_field_navigation(\n",
    "    start_mapa1, goal_mapa1, mapa1, K_ATT, K_REP, D0, STEP_SIZE,\n",
    "    MAX_ITERATIONS, GOAL_THRESHOLD, WORLD_WIDTH, WORLD_HEIGHT\n",
    ")\n",
    "\n",
    "# Calcular comprimento do caminho\n",
    "path_length_mapa1 = sum([np.linalg.norm(np.array(path_mapa1[i+1]) - np.array(path_mapa1[i])) \n",
    "                          for i in range(len(path_mapa1)-1)])\n",
    "print(f\"Comprimento do caminho: {path_length_mapa1:.2f} m\")\n",
    "print(f\"Número de pontos: {len(path_mapa1)}\")"
   ]
  },
  {
   "cell_type": "markdown",
   "metadata": {},
   "source": [
    "### Visualização do Resultado - Mapa 1"
   ]
  },
  {
   "cell_type": "code",
   "execution_count": null,
   "metadata": {},
   "outputs": [],
   "source": [
    "fig, (ax1, ax2) = plt.subplots(1, 2, figsize=(16, 6))\n",
    "\n",
    "# Campo de distâncias\n",
    "ax1.imshow(dist_field_mapa1, extent=[0, WORLD_WIDTH, 0, WORLD_HEIGHT], \n",
    "           origin='lower', cmap='hot')\n",
    "ax1.axis('off')\n",
    "\n",
    "# Trajetória\n",
    "ax2.imshow(mapa1, extent=[0, WORLD_WIDTH, 0, WORLD_HEIGHT], origin='lower')\n",
    "\n",
    "# Desenhar caminho\n",
    "path_x = [p[0] for p in path_mapa1]\n",
    "path_y = [p[1] for p in path_mapa1]\n",
    "ax2.plot(path_x, path_y, 'r-', linewidth=2)\n",
    "\n",
    "# Desenhar início e objetivo\n",
    "ax2.plot(start_mapa1[0], start_mapa1[1], 'go', markersize=10)\n",
    "ax2.plot(goal_mapa1[0], goal_mapa1[1], 'ro', markersize=10)\n",
    "\n",
    "ax2.set_xlim(0, WORLD_WIDTH)\n",
    "ax2.set_ylim(0, WORLD_HEIGHT)\n",
    "ax2.axis('off')\n",
    "\n",
    "plt.tight_layout()\n",
    "plt.savefig('imagens/campos_potenciais_mapa1_youbot.png', dpi=150, bbox_inches='tight')\n",
    "plt.show()"
   ]
  },
  {
   "cell_type": "markdown",
   "metadata": {},
   "source": [
    "### Experimento 2: Mapa 2 - Cenário Complexo"
   ]
  },
  {
   "cell_type": "code",
   "execution_count": null,
   "metadata": {},
   "outputs": [],
   "source": [
    "# Definir pontos de início e objetivo\n",
    "start_mapa2 = (5, 5)\n",
    "goal_mapa2 = (45, 25)\n",
    "\n",
    "# Executar navegação por campos potenciais\n",
    "path_mapa2, dist_field_mapa2 = potential_field_navigation(\n",
    "    start_mapa2, goal_mapa2, mapa2, K_ATT, K_REP, D0, STEP_SIZE,\n",
    "    MAX_ITERATIONS, GOAL_THRESHOLD, WORLD_WIDTH, WORLD_HEIGHT\n",
    ")\n",
    "\n",
    "# Calcular comprimento do caminho\n",
    "path_length_mapa2 = sum([np.linalg.norm(np.array(path_mapa2[i+1]) - np.array(path_mapa2[i])) \n",
    "                          for i in range(len(path_mapa2)-1)])\n",
    "print(f\"Comprimento do caminho: {path_length_mapa2:.2f} m\")\n",
    "print(f\"Número de pontos: {len(path_mapa2)}\")"
   ]
  },
  {
   "cell_type": "markdown",
   "metadata": {},
   "source": [
    "### Visualização do Resultado - Mapa 2"
   ]
  },
  {
   "cell_type": "code",
   "execution_count": null,
   "metadata": {},
   "outputs": [],
   "source": [
    "fig, (ax1, ax2) = plt.subplots(1, 2, figsize=(16, 6))\n",
    "\n",
    "# Campo de distâncias\n",
    "ax1.imshow(dist_field_mapa2, extent=[0, WORLD_WIDTH, 0, WORLD_HEIGHT], \n",
    "           origin='lower', cmap='hot')\n",
    "ax1.axis('off')\n",
    "\n",
    "# Trajetória\n",
    "ax2.imshow(mapa2, extent=[0, WORLD_WIDTH, 0, WORLD_HEIGHT], origin='lower')\n",
    "\n",
    "# Desenhar caminho\n",
    "path_x = [p[0] for p in path_mapa2]\n",
    "path_y = [p[1] for p in path_mapa2]\n",
    "ax2.plot(path_x, path_y, 'r-', linewidth=2)\n",
    "\n",
    "# Desenhar início e objetivo\n",
    "ax2.plot(start_mapa2[0], start_mapa2[1], 'go', markersize=10)\n",
    "ax2.plot(goal_mapa2[0], goal_mapa2[1], 'ro', markersize=10)\n",
    "\n",
    "ax2.set_xlim(0, WORLD_WIDTH)\n",
    "ax2.set_ylim(0, WORLD_HEIGHT)\n",
    "ax2.axis('off')\n",
    "\n",
    "plt.tight_layout()\n",
    "plt.savefig('imagens/campos_potenciais_mapa2_youbot.png', dpi=150, bbox_inches='tight')\n",
    "plt.show()"
   ]
  },
  {
   "cell_type": "markdown",
   "metadata": {},
   "source": [
    "### Análise dos Resultados\n",
    "\n",
    "O método de Campos Potenciais apresenta as seguintes características:\n",
    "\n",
    "1. **Simplicidade**: O algoritmo é computacionalmente eficiente e fácil de implementar\n",
    "2. **Comportamento Reativo**: O robô responde em tempo real às forças atrativas e repulsivas\n",
    "3. **Mínimos Locais**: O método pode ficar preso em mínimos locais, especialmente em ambientes complexos\n",
    "4. **Suavidade**: As trajetórias geradas são geralmente suaves e contínuas\n",
    "5. **Parâmetros**: O desempenho depende fortemente dos parâmetros $k_{att}$, $k_{rep}$ e $d_0$\n",
    "\n",
    "Para o Kuka youbot, que é holonômico, o método é particularmente adequado pois o robô pode seguir\n",
    "diretamente a direção indicada pelo campo de forças."
   ]
  }
 ],
 "metadata": {
  "kernelspec": {
   "display_name": "Python 3",
   "language": "python",
   "name": "python3"
  },
  "language_info": {
   "codemirror_mode": {
    "name": "ipython",
    "version": 3
   },
   "file_extension": ".py",
   "mimetype": "text/x-python",
   "name": "python",
   "nbconvert_exporter": "python",
   "pygments_lexer": "ipython3",
   "version": "3.8.0"
  }
 },
 "nbformat": 4,
 "nbformat_minor": 4
}
