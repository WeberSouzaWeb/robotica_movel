{
 "cells": [
  {
   "cell_type": "markdown",
   "metadata": {},
   "source": [
    "# Trabalho Prático 2 - Planejamento e Navegação\n",
    "## Passo 1a: Roadmap para Kuka youbot\n",
    "\n",
    "### Importação de Bibliotecas"
   ]
  },
  {
   "cell_type": "code",
   "execution_count": null,
   "metadata": {},
   "outputs": [],
   "source": [
    "import numpy as np\n",
    "import matplotlib.pyplot as plt\n",
    "import matplotlib.image as mpimg\n",
    "import networkx as nx\n",
    "from matplotlib.patches import Circle\n",
    "from scipy.spatial import distance"
   ]
  },
  {
   "cell_type": "markdown",
   "metadata": {},
   "source": [
    "### Definição dos Parâmetros do Robô\n",
    "\n",
    "O Kuka youbot é um robô holonômico com as seguintes características:\n",
    "- Raio aproximado: 0.2 m\n",
    "- Capacidade de movimento omnidirecional"
   ]
  },
  {
   "cell_type": "code",
   "execution_count": null,
   "metadata": {},
   "outputs": [],
   "source": [
    "# Parâmetros do Kuka youbot\n",
    "ROBOT_RADIUS = 0.2  # raio do robô em metros\n",
    "SAFETY_MARGIN = 0.1  # margem de segurança adicional\n",
    "EFFECTIVE_RADIUS = ROBOT_RADIUS + SAFETY_MARGIN"
   ]
  },
  {
   "cell_type": "markdown",
   "metadata": {},
   "source": [
    "### Carregamento dos Mapas\n",
    "\n",
    "Carregamos os mapas fornecidos para planejamento de trajetórias."
   ]
  },
  {
   "cell_type": "code",
   "execution_count": null,
   "metadata": {},
   "outputs": [],
   "source": [
    "# Carregar mapas\n",
    "mapa1 = mpimg.imread('imagens/mapa1_invertido.png')\n",
    "mapa2 = mpimg.imread('imagens/mapa2_invertido.png')\n",
    "\n",
    "# Dimensões dos mapas (assumindo escala conhecida)\n",
    "WORLD_WIDTH = 50  # largura em metros\n",
    "WORLD_HEIGHT = 30  # altura em metros"
   ]
  },
  {
   "cell_type": "markdown",
   "metadata": {},
   "source": [
    "### Implementação do Algoritmo Roadmap\n",
    "\n",
    "O algoritmo Roadmap constrói um grafo de visibilidade conectando pontos livres no espaço de configuração.\n",
    "Os vértices do grafo são amostrados aleatoriamente no espaço livre, e as arestas conectam vértices\n",
    "que possuem linha de visão direta sem colidir com obstáculos."
   ]
  },
  {
   "cell_type": "code",
   "execution_count": null,
   "metadata": {},
   "outputs": [],
   "source": [
    "def pixel_to_world(px, py, img_shape, world_width, world_height):\n",
    "    \"\"\"Converte coordenadas de pixel para coordenadas do mundo.\"\"\"\n",
    "    h, w = img_shape[:2]\n",
    "    x = (px / w) * world_width\n",
    "    y = (py / h) * world_height\n",
    "    return x, y\n",
    "\n",
    "def world_to_pixel(x, y, img_shape, world_width, world_height):\n",
    "    \"\"\"Converte coordenadas do mundo para coordenadas de pixel.\"\"\"\n",
    "    h, w = img_shape[:2]\n",
    "    px = int((x / world_width) * w)\n",
    "    py = int((y / world_height) * h)\n",
    "    return px, py\n",
    "\n",
    "def is_collision_free(x1, y1, x2, y2, mapa, robot_radius, world_width, world_height):\n",
    "    \"\"\"Verifica se o caminho entre dois pontos está livre de colisões.\"\"\"\n",
    "    num_checks = int(distance.euclidean([x1, y1], [x2, y2]) * 10)\n",
    "    num_checks = max(num_checks, 10)\n",
    "    \n",
    "    for i in range(num_checks + 1):\n",
    "        t = i / num_checks\n",
    "        x = x1 + t * (x2 - x1)\n",
    "        y = y1 + t * (y2 - y1)\n",
    "        \n",
    "        px, py = world_to_pixel(x, y, mapa.shape, world_width, world_height)\n",
    "        \n",
    "        # Verificar área ao redor do ponto considerando o raio do robô\n",
    "        radius_px = int((robot_radius / world_width) * mapa.shape[1])\n",
    "        \n",
    "        for dx in range(-radius_px, radius_px + 1):\n",
    "            for dy in range(-radius_px, radius_px + 1):\n",
    "                check_px = px + dx\n",
    "                check_py = py + dy\n",
    "                \n",
    "                if 0 <= check_px < mapa.shape[1] and 0 <= check_py < mapa.shape[0]:\n",
    "                    if mapa[check_py, check_px, 0] < 0.5:  # obstáculo\n",
    "                        return False\n",
    "    return True\n",
    "\n",
    "def generate_random_samples(mapa, num_samples, robot_radius, world_width, world_height):\n",
    "    \"\"\"Gera amostras aleatórias no espaço livre.\"\"\"\n",
    "    samples = []\n",
    "    attempts = 0\n",
    "    max_attempts = num_samples * 100\n",
    "    \n",
    "    while len(samples) < num_samples and attempts < max_attempts:\n",
    "        x = np.random.uniform(0, world_width)\n",
    "        y = np.random.uniform(0, world_height)\n",
    "        \n",
    "        px, py = world_to_pixel(x, y, mapa.shape, world_width, world_height)\n",
    "        \n",
    "        # Verificar se o ponto está livre\n",
    "        radius_px = int((robot_radius / world_width) * mapa.shape[1])\n",
    "        is_free = True\n",
    "        \n",
    "        for dx in range(-radius_px, radius_px + 1):\n",
    "            for dy in range(-radius_px, radius_px + 1):\n",
    "                check_px = px + dx\n",
    "                check_py = py + dy\n",
    "                \n",
    "                if 0 <= check_px < mapa.shape[1] and 0 <= check_py < mapa.shape[0]:\n",
    "                    if mapa[check_py, check_px, 0] < 0.5:\n",
    "                        is_free = False\n",
    "                        break\n",
    "            if not is_free:\n",
    "                break\n",
    "        \n",
    "        if is_free:\n",
    "            samples.append((x, y))\n",
    "        \n",
    "        attempts += 1\n",
    "    \n",
    "    return samples\n",
    "\n",
    "def build_roadmap(samples, start, goal, mapa, robot_radius, world_width, world_height, k_nearest=10):\n",
    "    \"\"\"Constrói o grafo roadmap conectando amostras próximas.\"\"\"\n",
    "    G = nx.Graph()\n",
    "    \n",
    "    # Adicionar todos os pontos incluindo início e objetivo\n",
    "    all_points = [start] + samples + [goal]\n",
    "    \n",
    "    for i, point in enumerate(all_points):\n",
    "        G.add_node(i, pos=point)\n",
    "    \n",
    "    # Conectar cada ponto aos k vizinhos mais próximos\n",
    "    for i, p1 in enumerate(all_points):\n",
    "        distances = []\n",
    "        for j, p2 in enumerate(all_points):\n",
    "            if i != j:\n",
    "                dist = distance.euclidean(p1, p2)\n",
    "                distances.append((j, dist))\n",
    "        \n",
    "        # Ordenar por distância e pegar os k mais próximos\n",
    "        distances.sort(key=lambda x: x[1])\n",
    "        \n",
    "        for j, dist in distances[:k_nearest]:\n",
    "            p2 = all_points[j]\n",
    "            if is_collision_free(p1[0], p1[1], p2[0], p2[1], mapa, robot_radius, world_width, world_height):\n",
    "                G.add_edge(i, j, weight=dist)\n",
    "    \n",
    "    return G, all_points\n",
    "\n",
    "def find_path(G, start_idx, goal_idx):\n",
    "    \"\"\"Encontra o caminho mais curto no grafo usando A*.\"\"\"\n",
    "    try:\n",
    "        path_indices = nx.astar_path(G, start_idx, goal_idx, weight='weight')\n",
    "        return path_indices\n",
    "    except nx.NetworkXNoPath:\n",
    "        return None"
   ]
  },
  {
   "cell_type": "markdown",
   "metadata": {},
   "source": [
    "### Experimento 1: Mapa 1 - Cenário Simples"
   ]
  },
  {
   "cell_type": "code",
   "execution_count": null,
   "metadata": {},
   "outputs": [],
   "source": [
    "# Definir pontos de início e objetivo para Mapa 1\n",
    "start_mapa1 = (5, 15)\n",
    "goal_mapa1 = (45, 15)\n",
    "\n",
    "# Gerar amostras\n",
    "num_samples = 200\n",
    "samples_mapa1 = generate_random_samples(mapa1, num_samples, EFFECTIVE_RADIUS, WORLD_WIDTH, WORLD_HEIGHT)\n",
    "\n",
    "print(f\"Amostras geradas: {len(samples_mapa1)}\")\n",
    "\n",
    "# Construir roadmap\n",
    "G_mapa1, all_points_mapa1 = build_roadmap(samples_mapa1, start_mapa1, goal_mapa1, mapa1, \n",
    "                                           EFFECTIVE_RADIUS, WORLD_WIDTH, WORLD_HEIGHT, k_nearest=15)\n",
    "\n",
    "print(f\"Grafo construído com {G_mapa1.number_of_nodes()} nós e {G_mapa1.number_of_edges()} arestas\")\n",
    "\n",
    "# Encontrar caminho\n",
    "path_indices_mapa1 = find_path(G_mapa1, 0, len(all_points_mapa1) - 1)\n",
    "\n",
    "if path_indices_mapa1:\n",
    "    path_mapa1 = [all_points_mapa1[i] for i in path_indices_mapa1]\n",
    "    path_length_mapa1 = sum([distance.euclidean(path_mapa1[i], path_mapa1[i+1]) \n",
    "                              for i in range(len(path_mapa1)-1)])\n",
    "    print(f\"Caminho encontrado com comprimento: {path_length_mapa1:.2f} m\")\n",
    "else:\n",
    "    print(\"Nenhum caminho encontrado\")"
   ]
  },
  {
   "cell_type": "markdown",
   "metadata": {},
   "source": [
    "### Visualização do Resultado - Mapa 1"
   ]
  },
  {
   "cell_type": "code",
   "execution_count": null,
   "metadata": {},
   "outputs": [],
   "source": [
    "if path_indices_mapa1:\n",
    "    fig, ax = plt.subplots(figsize=(12, 8))\n",
    "    ax.imshow(mapa1, extent=[0, WORLD_WIDTH, 0, WORLD_HEIGHT], origin='lower')\n",
    "    \n",
    "    # Desenhar grafo\n",
    "    for edge in G_mapa1.edges():\n",
    "        p1 = all_points_mapa1[edge[0]]\n",
    "        p2 = all_points_mapa1[edge[1]]\n",
    "        ax.plot([p1[0], p2[0]], [p1[1], p2[1]], 'b-', alpha=0.2, linewidth=0.5)\n",
    "    \n",
    "    # Desenhar amostras\n",
    "    for point in samples_mapa1:\n",
    "        ax.plot(point[0], point[1], 'bo', markersize=2)\n",
    "    \n",
    "    # Desenhar caminho\n",
    "    path_x = [p[0] for p in path_mapa1]\n",
    "    path_y = [p[1] for p in path_mapa1]\n",
    "    ax.plot(path_x, path_y, 'r-', linewidth=3)\n",
    "    \n",
    "    # Desenhar início e objetivo\n",
    "    ax.plot(start_mapa1[0], start_mapa1[1], 'go', markersize=10)\n",
    "    ax.plot(goal_mapa1[0], goal_mapa1[1], 'ro', markersize=10)\n",
    "    \n",
    "    ax.set_xlim(0, WORLD_WIDTH)\n",
    "    ax.set_ylim(0, WORLD_HEIGHT)\n",
    "    ax.axis('off')\n",
    "    plt.tight_layout()\n",
    "    plt.savefig('imagens/roadmap_mapa1_youbot.png', dpi=150, bbox_inches='tight')\n",
    "    plt.show()"
   ]
  },
  {
   "cell_type": "markdown",
   "metadata": {},
   "source": [
    "### Experimento 2: Mapa 2 - Cenário Complexo"
   ]
  },
  {
   "cell_type": "code",
   "execution_count": null,
   "metadata": {},
   "outputs": [],
   "source": [
    "# Definir pontos de início e objetivo para Mapa 2\n",
    "start_mapa2 = (5, 5)\n",
    "goal_mapa2 = (45, 25)\n",
    "\n",
    "# Gerar mais amostras para o mapa mais complexo\n",
    "num_samples_2 = 300\n",
    "samples_mapa2 = generate_random_samples(mapa2, num_samples_2, EFFECTIVE_RADIUS, WORLD_WIDTH, WORLD_HEIGHT)\n",
    "\n",
    "print(f\"Amostras geradas: {len(samples_mapa2)}\")\n",
    "\n",
    "# Construir roadmap\n",
    "G_mapa2, all_points_mapa2 = build_roadmap(samples_mapa2, start_mapa2, goal_mapa2, mapa2, \n",
    "                                           EFFECTIVE_RADIUS, WORLD_WIDTH, WORLD_HEIGHT, k_nearest=15)\n",
    "\n",
    "print(f\"Grafo construído com {G_mapa2.number_of_nodes()} nós e {G_mapa2.number_of_edges()} arestas\")\n",
    "\n",
    "# Encontrar caminho\n",
    "path_indices_mapa2 = find_path(G_mapa2, 0, len(all_points_mapa2) - 1)\n",
    "\n",
    "if path_indices_mapa2:\n",
    "    path_mapa2 = [all_points_mapa2[i] for i in path_indices_mapa2]\n",
    "    path_length_mapa2 = sum([distance.euclidean(path_mapa2[i], path_mapa2[i+1]) \n",
    "                              for i in range(len(path_mapa2)-1)])\n",
    "    print(f\"Caminho encontrado com comprimento: {path_length_mapa2:.2f} m\")\n",
    "else:\n",
    "    print(\"Nenhum caminho encontrado\")"
   ]
  },
  {
   "cell_type": "markdown",
   "metadata": {},
   "source": [
    "### Visualização do Resultado - Mapa 2"
   ]
  },
  {
   "cell_type": "code",
   "execution_count": null,
   "metadata": {},
   "outputs": [],
   "source": [
    "if path_indices_mapa2:\n",
    "    fig, ax = plt.subplots(figsize=(12, 8))\n",
    "    ax.imshow(mapa2, extent=[0, WORLD_WIDTH, 0, WORLD_HEIGHT], origin='lower')\n",
    "    \n",
    "    # Desenhar grafo\n",
    "    for edge in G_mapa2.edges():\n",
    "        p1 = all_points_mapa2[edge[0]]\n",
    "        p2 = all_points_mapa2[edge[1]]\n",
    "        ax.plot([p1[0], p2[0]], [p1[1], p2[1]], 'b-', alpha=0.2, linewidth=0.5)\n",
    "    \n",
    "    # Desenhar amostras\n",
    "    for point in samples_mapa2:\n",
    "        ax.plot(point[0], point[1], 'bo', markersize=2)\n",
    "    \n",
    "    # Desenhar caminho\n",
    "    path_x = [p[0] for p in path_mapa2]\n",
    "    path_y = [p[1] for p in path_mapa2]\n",
    "    ax.plot(path_x, path_y, 'r-', linewidth=3)\n",
    "    \n",
    "    # Desenhar início e objetivo\n",
    "    ax.plot(start_mapa2[0], start_mapa2[1], 'go', markersize=10)\n",
    "    ax.plot(goal_mapa2[0], goal_mapa2[1], 'ro', markersize=10)\n",
    "    \n",
    "    ax.set_xlim(0, WORLD_WIDTH)\n",
    "    ax.set_ylim(0, WORLD_HEIGHT)\n",
    "    ax.axis('off')\n",
    "    plt.tight_layout()\n",
    "    plt.savefig('imagens/roadmap_mapa2_youbot.png', dpi=150, bbox_inches='tight')\n",
    "    plt.show()"
   ]
  },
  {
   "cell_type": "markdown",
   "metadata": {},
   "source": [
    "### Análise dos Resultados\n",
    "\n",
    "O algoritmo Roadmap foi aplicado com sucesso aos dois cenários propostos. \n",
    "Os resultados mostram que:\n",
    "\n",
    "1. O método é capaz de encontrar caminhos válidos em ambientes com obstáculos\n",
    "2. A qualidade do caminho depende do número de amostras e da conectividade do grafo\n",
    "3. Cenários mais complexos requerem mais amostras para garantir a conectividade\n",
    "4. O Kuka youbot, sendo holonômico, pode seguir o caminho planejado diretamente"
   ]
  }
 ],
 "metadata": {
  "kernelspec": {
   "display_name": "Python 3",
   "language": "python",
   "name": "python3"
  },
  "language_info": {
   "codemirror_mode": {
    "name": "ipython",
    "version": 3
   },
   "file_extension": ".py",
   "mimetype": "text/x-python",
   "name": "python",
   "nbconvert_exporter": "python",
   "pygments_lexer": "ipython3",
   "version": "3.8.0"
  }
 },
 "nbformat": 4,
 "nbformat_minor": 4
}
